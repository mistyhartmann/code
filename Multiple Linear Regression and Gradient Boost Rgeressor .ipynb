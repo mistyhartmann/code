{
 "cells": [
  {
   "cell_type": "code",
   "execution_count": 1,
   "id": "37efd678",
   "metadata": {},
   "outputs": [],
   "source": [
    "import pandas as pd\n",
    "from sklearn.model_selection import train_test_split\n",
    "from sklearn.linear_model import LinearRegression\n",
    "from sklearn.metrics import mean_squared_error\n",
    "import matplotlib.pyplot as plt\n",
    "import seaborn as sns\n",
    "import numpy as np"
   ]
  },
  {
   "cell_type": "code",
   "execution_count": 2,
   "id": "371bd52d",
   "metadata": {},
   "outputs": [],
   "source": [
    "df= pd.read_csv('Table2_3_model_floats.csv')"
   ]
  },
  {
   "cell_type": "code",
   "execution_count": 3,
   "id": "52007069",
   "metadata": {},
   "outputs": [
    {
     "data": {
      "application/vnd.jupyter.widget-view+json": {
       "model_id": "5a6dd270f0d9432ab45a1602959fbf85",
       "version_major": 2,
       "version_minor": 0
      },
      "text/plain": [
       "                                             |      | [  0%]   00:00 -> (? left)"
      ]
     },
     "metadata": {},
     "output_type": "display_data"
    },
    {
     "name": "stdout",
     "output_type": "stream",
     "text": [
      "Report sweetviz_report_all.html was generated! NOTEBOOK/COLAB USERS: the web browser MAY not pop up, regardless, the report IS saved in your notebook/colab files.\n"
     ]
    }
   ],
   "source": [
    "import sweetviz as sv\n",
    "report = sv.analyze(df)\n",
    "report.show_html('sweetviz_report_all.html')"
   ]
  },
  {
   "cell_type": "code",
   "execution_count": 4,
   "id": "9d6a2e01",
   "metadata": {},
   "outputs": [],
   "source": []
  },
  {
   "cell_type": "code",
   "execution_count": 6,
   "id": "1686e77d",
   "metadata": {},
   "outputs": [
    {
     "data": {
      "text/plain": [
       "Unnamed: 0                               0\n",
       "RSE licensee board structure             0\n",
       "RSE licensee profit status               0\n",
       "Fund's RSE licensee                      0\n",
       "RSE Membership base                      0\n",
       "                                      ... \n",
       "Growth in number of member accounts    356\n",
       "Total number of member accounts        447\n",
       "Ten-year\\nrate of return               455\n",
       "Total members' benefits                462\n",
       "Average member account balance         473\n",
       "Length: 82, dtype: int64"
      ]
     },
     "execution_count": 6,
     "metadata": {},
     "output_type": "execute_result"
    }
   ],
   "source": [
    "df.isnull().sum().sort_values()"
   ]
  },
  {
   "cell_type": "code",
   "execution_count": 9,
   "id": "71655e8f",
   "metadata": {},
   "outputs": [],
   "source": [
    "df['Period'] = pd.to_datetime(df['Period'], format='%Y-%m-%d')\n"
   ]
  },
  {
   "cell_type": "code",
   "execution_count": 10,
   "id": "bacd5330",
   "metadata": {},
   "outputs": [
    {
     "data": {
      "text/html": [
       "<div>\n",
       "<style scoped>\n",
       "    .dataframe tbody tr th:only-of-type {\n",
       "        vertical-align: middle;\n",
       "    }\n",
       "\n",
       "    .dataframe tbody tr th {\n",
       "        vertical-align: top;\n",
       "    }\n",
       "\n",
       "    .dataframe thead th {\n",
       "        text-align: right;\n",
       "    }\n",
       "</style>\n",
       "<table border=\"1\" class=\"dataframe\">\n",
       "  <thead>\n",
       "    <tr style=\"text-align: right;\">\n",
       "      <th></th>\n",
       "      <th>Unnamed: 0</th>\n",
       "      <th>Period</th>\n",
       "      <th>Fund name</th>\n",
       "      <th>ABN</th>\n",
       "      <th>RSE Regulatory classification</th>\n",
       "      <th>Fund type</th>\n",
       "      <th>RSE Membership base</th>\n",
       "      <th>Fund's RSE licensee</th>\n",
       "      <th>RSE licensee ownership type</th>\n",
       "      <th>RSE licensee profit status</th>\n",
       "      <th>...</th>\n",
       "      <th>Advice expenses</th>\n",
       "      <th>of which: associated with intrafund advice</th>\n",
       "      <th>Net earnings</th>\n",
       "      <th>Income tax expense / benefit</th>\n",
       "      <th>Net earnings after tax</th>\n",
       "      <th>Cash flow adjusted net assets</th>\n",
       "      <th>Total assets at the end of period</th>\n",
       "      <th>Total liabilities at the end of period</th>\n",
       "      <th>Net assets at the end of period</th>\n",
       "      <th>Year</th>\n",
       "    </tr>\n",
       "  </thead>\n",
       "  <tbody>\n",
       "    <tr>\n",
       "      <th>0</th>\n",
       "      <td>0</td>\n",
       "      <td>2022-06-30</td>\n",
       "      <td>Alcoa of Australia Retirement Plan</td>\n",
       "      <td>80928800255</td>\n",
       "      <td>Non public offer</td>\n",
       "      <td>Corporate</td>\n",
       "      <td>Corporate base</td>\n",
       "      <td>Alcoa of Australia Retirement Plan Pty Ltd</td>\n",
       "      <td>Employer sponsor (non-public sector) ownership</td>\n",
       "      <td>Not for profit status</td>\n",
       "      <td>...</td>\n",
       "      <td>0.0</td>\n",
       "      <td>0.0</td>\n",
       "      <td>-53078.0</td>\n",
       "      <td>-8602.0</td>\n",
       "      <td>-44476.0</td>\n",
       "      <td>2258997.0</td>\n",
       "      <td>2172137.0</td>\n",
       "      <td>20071.0</td>\n",
       "      <td>2152066.0</td>\n",
       "      <td>2022</td>\n",
       "    </tr>\n",
       "    <tr>\n",
       "      <th>1</th>\n",
       "      <td>1</td>\n",
       "      <td>2022-06-30</td>\n",
       "      <td>AMG Super</td>\n",
       "      <td>30099320583</td>\n",
       "      <td>Public offer</td>\n",
       "      <td>Retail</td>\n",
       "      <td>General base</td>\n",
       "      <td>Equity Trustees Superannuation Limited</td>\n",
       "      <td>Financial services corporation ownership</td>\n",
       "      <td>For profit status</td>\n",
       "      <td>...</td>\n",
       "      <td>6256.0</td>\n",
       "      <td>0.0</td>\n",
       "      <td>-138740.0</td>\n",
       "      <td>-23474.0</td>\n",
       "      <td>-115266.0</td>\n",
       "      <td>1607575.0</td>\n",
       "      <td>1553647.0</td>\n",
       "      <td>5396.0</td>\n",
       "      <td>1548251.0</td>\n",
       "      <td>2022</td>\n",
       "    </tr>\n",
       "    <tr>\n",
       "      <th>2</th>\n",
       "      <td>2</td>\n",
       "      <td>2022-06-30</td>\n",
       "      <td>AMP Super Fund</td>\n",
       "      <td>78421957449</td>\n",
       "      <td>Public offer</td>\n",
       "      <td>Retail</td>\n",
       "      <td>General base</td>\n",
       "      <td>N. M. Superannuation Proprietary Limited</td>\n",
       "      <td>Financial services corporation ownership</td>\n",
       "      <td>For profit status</td>\n",
       "      <td>...</td>\n",
       "      <td>36761.0</td>\n",
       "      <td>0.0</td>\n",
       "      <td>-3653121.0</td>\n",
       "      <td>-396125.0</td>\n",
       "      <td>-3256996.0</td>\n",
       "      <td>60581015.0</td>\n",
       "      <td>55838175.0</td>\n",
       "      <td>964296.0</td>\n",
       "      <td>54873879.0</td>\n",
       "      <td>2022</td>\n",
       "    </tr>\n",
       "    <tr>\n",
       "      <th>3</th>\n",
       "      <td>3</td>\n",
       "      <td>2022-06-30</td>\n",
       "      <td>Aracon Superannuation Fund</td>\n",
       "      <td>40586548205</td>\n",
       "      <td>Public offer</td>\n",
       "      <td>Retail</td>\n",
       "      <td>General base</td>\n",
       "      <td>Equity Trustees Superannuation Limited</td>\n",
       "      <td>Financial services corporation ownership</td>\n",
       "      <td>For profit status</td>\n",
       "      <td>...</td>\n",
       "      <td>2595.0</td>\n",
       "      <td>0.0</td>\n",
       "      <td>-43557.0</td>\n",
       "      <td>-3504.0</td>\n",
       "      <td>-40053.0</td>\n",
       "      <td>586242.0</td>\n",
       "      <td>595099.0</td>\n",
       "      <td>3414.0</td>\n",
       "      <td>591685.0</td>\n",
       "      <td>2022</td>\n",
       "    </tr>\n",
       "    <tr>\n",
       "      <th>4</th>\n",
       "      <td>4</td>\n",
       "      <td>2022-06-30</td>\n",
       "      <td>ASGARD Independence Plan Division Two</td>\n",
       "      <td>90194410365</td>\n",
       "      <td>Public offer</td>\n",
       "      <td>Retail</td>\n",
       "      <td>General base</td>\n",
       "      <td>BT Funds Management Limited</td>\n",
       "      <td>Financial services corporation ownership</td>\n",
       "      <td>For profit status</td>\n",
       "      <td>...</td>\n",
       "      <td>0.0</td>\n",
       "      <td>0.0</td>\n",
       "      <td>-1339999.0</td>\n",
       "      <td>-203957.0</td>\n",
       "      <td>-1136042.0</td>\n",
       "      <td>20424719.0</td>\n",
       "      <td>16839656.0</td>\n",
       "      <td>41287.0</td>\n",
       "      <td>16798369.0</td>\n",
       "      <td>2022</td>\n",
       "    </tr>\n",
       "  </tbody>\n",
       "</table>\n",
       "<p>5 rows × 83 columns</p>\n",
       "</div>"
      ],
      "text/plain": [
       "   Unnamed: 0     Period                              Fund name          ABN  \\\n",
       "0           0 2022-06-30     Alcoa of Australia Retirement Plan  80928800255   \n",
       "1           1 2022-06-30                              AMG Super  30099320583   \n",
       "2           2 2022-06-30                         AMP Super Fund  78421957449   \n",
       "3           3 2022-06-30             Aracon Superannuation Fund  40586548205   \n",
       "4           4 2022-06-30  ASGARD Independence Plan Division Two  90194410365   \n",
       "\n",
       "  RSE Regulatory classification  Fund type RSE Membership base  \\\n",
       "0              Non public offer  Corporate      Corporate base   \n",
       "1                  Public offer     Retail        General base   \n",
       "2                  Public offer     Retail        General base   \n",
       "3                  Public offer     Retail        General base   \n",
       "4                  Public offer     Retail        General base   \n",
       "\n",
       "                          Fund's RSE licensee  \\\n",
       "0  Alcoa of Australia Retirement Plan Pty Ltd   \n",
       "1      Equity Trustees Superannuation Limited   \n",
       "2    N. M. Superannuation Proprietary Limited   \n",
       "3      Equity Trustees Superannuation Limited   \n",
       "4                 BT Funds Management Limited   \n",
       "\n",
       "                      RSE licensee ownership type RSE licensee profit status  \\\n",
       "0  Employer sponsor (non-public sector) ownership      Not for profit status   \n",
       "1        Financial services corporation ownership          For profit status   \n",
       "2        Financial services corporation ownership          For profit status   \n",
       "3        Financial services corporation ownership          For profit status   \n",
       "4        Financial services corporation ownership          For profit status   \n",
       "\n",
       "   ... Advice expenses  of which: associated with intrafund advice  \\\n",
       "0  ...             0.0                                         0.0   \n",
       "1  ...          6256.0                                         0.0   \n",
       "2  ...         36761.0                                         0.0   \n",
       "3  ...          2595.0                                         0.0   \n",
       "4  ...             0.0                                         0.0   \n",
       "\n",
       "   Net earnings   Income tax expense / benefit  Net earnings after tax  \\\n",
       "0       -53078.0                       -8602.0                -44476.0   \n",
       "1      -138740.0                      -23474.0               -115266.0   \n",
       "2     -3653121.0                     -396125.0              -3256996.0   \n",
       "3       -43557.0                       -3504.0                -40053.0   \n",
       "4     -1339999.0                     -203957.0              -1136042.0   \n",
       "\n",
       "   Cash flow adjusted net assets  Total assets at the end of period  \\\n",
       "0                      2258997.0                          2172137.0   \n",
       "1                      1607575.0                          1553647.0   \n",
       "2                     60581015.0                         55838175.0   \n",
       "3                       586242.0                           595099.0   \n",
       "4                     20424719.0                         16839656.0   \n",
       "\n",
       "   Total liabilities at the end of period  Net assets at the end of period  \\\n",
       "0                                 20071.0                        2152066.0   \n",
       "1                                  5396.0                        1548251.0   \n",
       "2                                964296.0                       54873879.0   \n",
       "3                                  3414.0                         591685.0   \n",
       "4                                 41287.0                       16798369.0   \n",
       "\n",
       "   Year  \n",
       "0  2022  \n",
       "1  2022  \n",
       "2  2022  \n",
       "3  2022  \n",
       "4  2022  \n",
       "\n",
       "[5 rows x 83 columns]"
      ]
     },
     "execution_count": 10,
     "metadata": {},
     "output_type": "execute_result"
    }
   ],
   "source": [
    "df['Year'] = df['Period'].dt.year\n",
    "df.head()"
   ]
  },
  {
   "cell_type": "code",
   "execution_count": 12,
   "id": "b34ca11a",
   "metadata": {},
   "outputs": [],
   "source": [
    "df.dropna(inplace=True)"
   ]
  },
  {
   "cell_type": "code",
   "execution_count": 23,
   "id": "995b0d1f",
   "metadata": {},
   "outputs": [
    {
     "data": {
      "text/plain": [
       "Index(['Unnamed: 0', 'Period', 'Fund name', 'ABN',\n",
       "       'RSE Regulatory classification', 'Fund type', 'RSE Membership base',\n",
       "       'Fund's RSE licensee', 'RSE licensee ownership type',\n",
       "       'RSE licensee profit status', 'RSE licensee board structure',\n",
       "       'Total assets', 'Number of investment options',\n",
       "       'One-year\\nrate of return_x', 'Five-year\\nrate of return',\n",
       "       'Ten-year\\nrate of return', 'Total number of member accounts',\n",
       "       'Total members' benefits', 'Average member account balance',\n",
       "       'Growth in number of member accounts',\n",
       "       'Net assets at beginning of period', 'Employer contributions ',\n",
       "       'Personal contributions', 'Government co-contributions',\n",
       "       'Low income super contributions', 'Other member contributions',\n",
       "       'Member contributions', 'Defined benefit contributions',\n",
       "       'Contribution tax and surcharge', 'Total Members' benefit flows in',\n",
       "       'Inward rollovers', 'Outward rollover', 'Net rollovers',\n",
       "       'Lump sum benefit payments ', 'Pension benefit payments',\n",
       "       'Total benefit payments ', 'Repatriation to employer sponsor',\n",
       "       'Other members’ benefits flows out', 'Total Members' benefit flows out',\n",
       "       'Net members' benefits flows', 'Net members' benefits outflow ratio_y',\n",
       "       'Inward insurance flows', 'Outward insurance flows',\n",
       "       'Net insurance flows', 'Interest revenue', 'Dividend revenue',\n",
       "       'Rental income', 'Trust distributions', 'Other investment income',\n",
       "       'Total investment income', 'Impairment expense ',\n",
       "       'Investment income after impairment expense', 'Unrealised gains/losses',\n",
       "       'Realised gains/losses', 'Total gains/losses',\n",
       "       'Investment income and gains / losses ',\n",
       "       'Investment expenses associated with investment management base fee',\n",
       "       'Investment expenses associated with investment management performance based fee',\n",
       "       'Custodian', 'Investment consultant',\n",
       "       'Associated with service provider expenses',\n",
       "       'Other investment expenses', 'Total Investment expenses',\n",
       "       'Investment expenses ratio_y', 'Operating income',\n",
       "       'Administration expenses', 'Advertising/marketing expenses',\n",
       "       'Commissions', 'Director/individual trustee expenses',\n",
       "       'Associated with service provider  expenses',\n",
       "       'Other administration and operating expenses',\n",
       "       'Total administration and operating expenses',\n",
       "       'Operating expense ratio_y', 'Advice expenses',\n",
       "       'of which: associated with intrafund advice', 'Net earnings ',\n",
       "       'Income tax expense / benefit', 'Net earnings after tax',\n",
       "       'Cash flow adjusted net assets', 'Total assets at the end of period',\n",
       "       'Total liabilities at the end of period',\n",
       "       'Net assets at the end of period', 'Year'],\n",
       "      dtype='object')"
      ]
     },
     "execution_count": 23,
     "metadata": {},
     "output_type": "execute_result"
    }
   ],
   "source": [
    "df.columns"
   ]
  },
  {
   "cell_type": "code",
   "execution_count": 36,
   "id": "c08dca7f",
   "metadata": {},
   "outputs": [],
   "source": [
    "feature_cols = [\"Year\", 'Total number of member accounts',\n",
    "    \"Operating expense ratio_y\",\n",
    "    \"Employer contributions \",\n",
    "    \"Total investment income\",'Number of investment options',\n",
    "                     'Net earnings after tax','Net insurance flows', 'Member contributions'\n",
    "]\n"
   ]
  },
  {
   "cell_type": "code",
   "execution_count": 37,
   "id": "9f21dd99",
   "metadata": {},
   "outputs": [],
   "source": [
    "# Define a function that accepts a list of features in a DataFrame and returns the RMSE for a test dataset.\n",
    "\n",
    "def train_test_rmse(df, feature_cols):\n",
    "    X = df[feature_cols]\n",
    "    y = df['Ten-year\\nrate of return']\n",
    "    \n",
    "    X_train, X_test, y_train, y_test = train_test_split(X, y,test_size=0.2,random_state=123)\n",
    "    \n",
    "    linreg = LinearRegression()\n",
    "    linreg.fit(X_train, y_train)\n",
    "    \n",
    "    y_pred = linreg.predict(X_test)\n",
    "    return np.sqrt(metrics.mean_squared_error(y_test, y_pred))\n"
   ]
  },
  {
   "cell_type": "code",
   "execution_count": 42,
   "id": "9f4088c6",
   "metadata": {},
   "outputs": [
    {
     "name": "stdout",
     "output_type": "stream",
     "text": [
      "0.012473917814536202\n",
      "0.012182625293940822\n",
      "0.012303065132438087\n"
     ]
    }
   ],
   "source": [
    "from sklearn import metrics\n",
    "\n",
    "# Compare different sets of features.\n",
    "print(train_test_rmse(df, [\"Year\", \n",
    "                           'Total number of member accounts',\n",
    "                           \"Operating expense ratio_y\",\n",
    "                           \"Employer contributions \",\n",
    "                           \"Total investment income\",'Number of investment options',\n",
    "                           'Net earnings after tax',\n",
    "                           'Net insurance flows', \n",
    "                           'Member contributions',\n",
    "                           \"Total investment income\"]))\n",
    "print(train_test_rmse(df, [\"Year\",'Total number of member accounts',\n",
    "                           \"Operating expense ratio_y\",\n",
    "                           \"Employer contributions \",\n",
    "                           \"Total investment income\",\n",
    "                           'Net earnings after tax',\n",
    "                           'Net insurance flows', \n",
    "                           'Member contributions',\n",
    "                           \"Total investment income\"]))\n",
    "print(train_test_rmse(df, [\"Year\",\n",
    "                           \"Operating expense ratio_y\",\n",
    "                           \"Employer contributions \",\n",
    "                           \"Total investment income\",\n",
    "                           \n",
    "                           'Net insurance flows', \n",
    "                           'Member contributions',\n",
    "                           \"Total investment income\"]))"
   ]
  },
  {
   "cell_type": "code",
   "execution_count": 43,
   "id": "d860fe26",
   "metadata": {},
   "outputs": [],
   "source": [
    "#get dummies \n",
    "dummy_df = pd.get_dummies(df['Fund type'], prefix='Fund_type')\n",
    "\n",
    "# Concatenate the dummy variables with the original DataFrame\n",
    "df = pd.concat([df, dummy_df], axis=1)\n",
    "\n",
    "df.drop('Fund type', axis=1, inplace=True)"
   ]
  },
  {
   "cell_type": "code",
   "execution_count": 44,
   "id": "254b034a",
   "metadata": {},
   "outputs": [],
   "source": [
    "dummy_year = pd.get_dummies(df['Year'], prefix='Year')\n",
    "\n",
    "# Concatenate the dummy variables with the original DataFrame\n",
    "df = pd.concat([df, dummy_year], axis=1)\n",
    "\n",
    "df.drop('Year', axis=1, inplace=True)"
   ]
  },
  {
   "cell_type": "code",
   "execution_count": 45,
   "id": "61f1562a",
   "metadata": {},
   "outputs": [],
   "source": [
    "dummy_structure = pd.get_dummies(df['RSE licensee board structure'], prefix='Board_Structure')\n",
    "\n",
    "# Concatenate the dummy variables with the original DataFrame\n",
    "df = pd.concat([df, dummy_structure], axis=1)\n",
    "\n",
    "df.drop('RSE licensee board structure', axis=1, inplace=True)"
   ]
  },
  {
   "cell_type": "code",
   "execution_count": 46,
   "id": "bb5987a1",
   "metadata": {},
   "outputs": [
    {
     "data": {
      "text/plain": [
       "Index(['Unnamed: 0', 'Period', 'Fund name', 'ABN',\n",
       "       'RSE Regulatory classification', 'RSE Membership base',\n",
       "       'Fund's RSE licensee', 'RSE licensee ownership type',\n",
       "       'RSE licensee profit status', 'Total assets',\n",
       "       'Number of investment options', 'One-year\\nrate of return_x',\n",
       "       'Five-year\\nrate of return', 'Ten-year\\nrate of return',\n",
       "       'Total number of member accounts', 'Total members' benefits',\n",
       "       'Average member account balance', 'Growth in number of member accounts',\n",
       "       'Net assets at beginning of period', 'Employer contributions ',\n",
       "       'Personal contributions', 'Government co-contributions',\n",
       "       'Low income super contributions', 'Other member contributions',\n",
       "       'Member contributions', 'Defined benefit contributions',\n",
       "       'Contribution tax and surcharge', 'Total Members' benefit flows in',\n",
       "       'Inward rollovers', 'Outward rollover', 'Net rollovers',\n",
       "       'Lump sum benefit payments ', 'Pension benefit payments',\n",
       "       'Total benefit payments ', 'Repatriation to employer sponsor',\n",
       "       'Other members’ benefits flows out', 'Total Members' benefit flows out',\n",
       "       'Net members' benefits flows', 'Net members' benefits outflow ratio_y',\n",
       "       'Inward insurance flows', 'Outward insurance flows',\n",
       "       'Net insurance flows', 'Interest revenue', 'Dividend revenue',\n",
       "       'Rental income', 'Trust distributions', 'Other investment income',\n",
       "       'Total investment income', 'Impairment expense ',\n",
       "       'Investment income after impairment expense', 'Unrealised gains/losses',\n",
       "       'Realised gains/losses', 'Total gains/losses',\n",
       "       'Investment income and gains / losses ',\n",
       "       'Investment expenses associated with investment management base fee',\n",
       "       'Investment expenses associated with investment management performance based fee',\n",
       "       'Custodian', 'Investment consultant',\n",
       "       'Associated with service provider expenses',\n",
       "       'Other investment expenses', 'Total Investment expenses',\n",
       "       'Investment expenses ratio_y', 'Operating income',\n",
       "       'Administration expenses', 'Advertising/marketing expenses',\n",
       "       'Commissions', 'Director/individual trustee expenses',\n",
       "       'Associated with service provider  expenses',\n",
       "       'Other administration and operating expenses',\n",
       "       'Total administration and operating expenses',\n",
       "       'Operating expense ratio_y', 'Advice expenses',\n",
       "       'of which: associated with intrafund advice', 'Net earnings ',\n",
       "       'Income tax expense / benefit', 'Net earnings after tax',\n",
       "       'Cash flow adjusted net assets', 'Total assets at the end of period',\n",
       "       'Total liabilities at the end of period',\n",
       "       'Net assets at the end of period', 'Fund_type_Corporate',\n",
       "       'Fund_type_Industry', 'Fund_type_Public Sector', 'Fund_type_Retail',\n",
       "       'Fund_type_Retail - ERF', 'Year_2015', 'Year_2016', 'Year_2017',\n",
       "       'Year_2018', 'Year_2019', 'Year_2020', 'Year_2021', 'Year_2022',\n",
       "       'Board_Structure_Equal representation required by governing rules',\n",
       "       'Board_Structure_Equal representation required by legislation',\n",
       "       'Board_Structure_Non equal representation'],\n",
       "      dtype='object')"
      ]
     },
     "execution_count": 46,
     "metadata": {},
     "output_type": "execute_result"
    }
   ],
   "source": [
    "df.columns\n"
   ]
  },
  {
   "cell_type": "code",
   "execution_count": 49,
   "id": "1c798ef5",
   "metadata": {},
   "outputs": [
    {
     "name": "stdout",
     "output_type": "stream",
     "text": [
      "0.009285865730768367\n"
     ]
    }
   ],
   "source": [
    "print(train_test_rmse(df, ['Total number of member accounts',\n",
    "                           \"Operating expense ratio_y\",\n",
    "                           \"Employer contributions \",\n",
    "                           \"Total investment income\",\n",
    "                           'Net earnings after tax',\n",
    "                           'Net insurance flows', \n",
    "                           'Member contributions',\n",
    "                           \"Total investment income\",'Fund_type_Corporate',\n",
    "       'Fund_type_Industry', 'Fund_type_Public Sector', 'Fund_type_Retail',\n",
    "       'Fund_type_Retail - ERF', 'Year_2015', 'Year_2016', 'Year_2017',\n",
    "       'Year_2018', 'Year_2019', 'Year_2020', 'Year_2021', 'Year_2022',\n",
    "       'Board_Structure_Equal representation required by governing rules',\n",
    "       'Board_Structure_Equal representation required by legislation',\n",
    "       'Board_Structure_Non equal representation']))"
   ]
  },
  {
   "cell_type": "code",
   "execution_count": 50,
   "id": "3df3f5e1",
   "metadata": {},
   "outputs": [
    {
     "name": "stdout",
     "output_type": "stream",
     "text": [
      "0.009284211883761313\n"
     ]
    }
   ],
   "source": [
    "print(train_test_rmse(df, ['Total number of member accounts',\n",
    "                           \"Operating expense ratio_y\",\n",
    "                           \"Employer contributions \",\n",
    "                           \"Total investment income\",\n",
    "                           'Net earnings after tax',\n",
    "                           'Net insurance flows', \n",
    "                           'Member contributions',\n",
    "                           \"Total investment income\",'Fund_type_Corporate',\n",
    "       'Fund_type_Industry', 'Fund_type_Public Sector', 'Fund_type_Retail',\n",
    "       'Fund_type_Retail - ERF', 'Year_2015', 'Year_2016', 'Year_2017',\n",
    "       'Year_2018', 'Year_2019', 'Year_2020', 'Year_2021', 'Year_2022'\n",
    "      ]))"
   ]
  },
  {
   "cell_type": "code",
   "execution_count": 52,
   "id": "6f245823",
   "metadata": {},
   "outputs": [
    {
     "data": {
      "text/plain": [
       "0.05708708222891566"
      ]
     },
     "execution_count": 52,
     "metadata": {},
     "output_type": "execute_result"
    }
   ],
   "source": [
    "#null RMSE as a baseline model \n",
    "feature_cols = ['Total number of member accounts',\n",
    "                           \"Operating expense ratio_y\",\n",
    "                           \"Employer contributions \",\n",
    "                           \"Total investment income\",\n",
    "                           'Net earnings after tax',\n",
    "                           'Net insurance flows', \n",
    "                           'Member contributions',\n",
    "                           \"Total investment income\",'Fund_type_Corporate',\n",
    "       'Fund_type_Industry', 'Fund_type_Public Sector', 'Fund_type_Retail',\n",
    "       'Fund_type_Retail - ERF', 'Year_2015', 'Year_2016', 'Year_2017',\n",
    "       'Year_2018', 'Year_2019', 'Year_2020', 'Year_2021', 'Year_2022']\n",
    "X = df[feature_cols]\n",
    "y = df['Ten-year\\nrate of return']\n",
    "\n",
    "X_train, X_test, y_train, y_test = train_test_split(X, y,random_state=123)\n",
    "\n",
    "linreg = LinearRegression()\n",
    "linreg.fit(X_train, y_train)\n",
    "#y_test.mean() gives you the average number of bike rentals in your testing dataset\n",
    "\n",
    "y_test.mean()\n"
   ]
  },
  {
   "cell_type": "code",
   "execution_count": 53,
   "id": "8ece986b",
   "metadata": {},
   "outputs": [
    {
     "data": {
      "text/plain": [
       "0.015491328146092465"
      ]
     },
     "execution_count": 53,
     "metadata": {},
     "output_type": "execute_result"
    }
   ],
   "source": [
    "# Create a NumPy array with the same shape as y_test.\n",
    "y_null = np.zeros_like(y_test, dtype=float)\n",
    "#This creates a new NumPy array with the same shape as y_test and\n",
    "#sets all its elements to zero.\n",
    "\n",
    "\n",
    "y_null.fill(y_test.mean())\n",
    "\n",
    "# Calculate RMSE for the null model\n",
    "rmse_null = np.sqrt(mean_squared_error(y_test, y_null))\n",
    "rmse_null"
   ]
  },
  {
   "cell_type": "markdown",
   "id": "8aae20b9",
   "metadata": {},
   "source": [
    "Okay, my model is doing better than predicting the mean value for y_test array. "
   ]
  },
  {
   "cell_type": "markdown",
   "id": "885892c0",
   "metadata": {},
   "source": [
    "I learnt with previous model try, that to enhance the performance of my machine learning model, it's crucial to balance the impact of each feature. This involves scaling them so that no single feature unduly influences the model due to its large numerical range.If we do not to scale the features, the algorithm could give disproportionate weight to those with larger numerical values."
   ]
  },
  {
   "cell_type": "code",
   "execution_count": 54,
   "id": "55e7c548",
   "metadata": {},
   "outputs": [
    {
     "name": "stdout",
     "output_type": "stream",
     "text": [
      "Intercept: 0.05394903450314466\n",
      "Coefficients:\n",
      "Total number of member accounts: -0.0004060153170993916\n",
      "Operating expense ratio_y: -0.0065774013660163545\n",
      "Employer contributions : 0.002554808630130066\n",
      "Total investment income: 0.0002679489732784413\n",
      "Net earnings after tax: 0.0006313326308123282\n",
      "Net insurance flows: -0.0006387861396809381\n",
      "Member contributions: -0.0021242269008096104\n",
      "Total investment income: 0.0002679489732784426\n",
      "Fund_type_Corporate: 0.0023193748615716546\n",
      "Fund_type_Industry: 0.0024258435306719534\n",
      "Fund_type_Public Sector: 0.0004956235643689708\n",
      "Fund_type_Retail: -0.0026745446733879522\n",
      "Fund_type_Retail - ERF: -0.002835983067395097\n",
      "Year_2015: -0.0008752760430811884\n",
      "Year_2016: -0.004388991195782826\n",
      "Year_2017: -0.006519450556007079\n",
      "Year_2018: -0.0010979337600597406\n",
      "Year_2019: 0.005366511724993659\n",
      "Year_2020: 0.0020319845872896975\n",
      "Year_2021: 0.004384323946967617\n",
      "Year_2022: 0.0029010960865402118\n"
     ]
    }
   ],
   "source": [
    "from sklearn.preprocessing import StandardScaler\n",
    "from sklearn.linear_model import LinearRegression\n",
    "\n",
    "# Initialize the StandardScaler\n",
    "scaler = StandardScaler()\n",
    "\n",
    "\n",
    "# You can now use X_train_scaled and X_test_scaled in your model training\n",
    "\n",
    "feature_cols = ['Total number of member accounts',\n",
    "                           \"Operating expense ratio_y\",\n",
    "                           \"Employer contributions \",\n",
    "                           \"Total investment income\",\n",
    "                           'Net earnings after tax',\n",
    "                           'Net insurance flows', \n",
    "                           'Member contributions',\n",
    "                           \"Total investment income\",'Fund_type_Corporate',\n",
    "       'Fund_type_Industry', 'Fund_type_Public Sector', 'Fund_type_Retail',\n",
    "       'Fund_type_Retail - ERF', 'Year_2015', 'Year_2016', 'Year_2017',\n",
    "       'Year_2018', 'Year_2019', 'Year_2020', 'Year_2021', 'Year_2022']\n",
    "\n",
    "X = df[feature_cols]\n",
    "y = df['Ten-year\\nrate of return']\n",
    "\n",
    "# Split the data into training and testing sets\n",
    "X_train, X_test, y_train, y_test = train_test_split(X, y, test_size=0.2, random_state=123)\n",
    "\n",
    "X_train_scaled = scaler.fit_transform(X_train)\n",
    "X_test_scaled = scaler.transform(X_test)\n",
    "\n",
    "linreg = LinearRegression()\n",
    "linreg.fit(X_train_scaled, y_train)\n",
    "\n",
    "# Make predictions and evaluate the model\n",
    "y_pred = linreg.predict(X_test_scaled)\n",
    "\n",
    "\n",
    "# Get the intercept and coefficients\n",
    "intercept = linreg.intercept_\n",
    "coefficients = linreg.coef_\n",
    "\n",
    "print(f\"Intercept: {intercept}\")\n",
    "print(\"Coefficients:\")\n",
    "for feature, coef in zip(feature_cols, coefficients):\n",
    "    print(f\"{feature}: {coef}\")"
   ]
  },
  {
   "cell_type": "code",
   "execution_count": 56,
   "id": "9e26e52d",
   "metadata": {},
   "outputs": [
    {
     "name": "stdout",
     "output_type": "stream",
     "text": [
      "RMSE for model with scaled features: 0.009284211886941418\n"
     ]
    }
   ],
   "source": [
    "def calculate_rmse(y_true, y_pred):\n",
    "    mse = mean_squared_error(y_true, y_pred)\n",
    "    rmse = np.sqrt(mse)\n",
    "    return rmse\n",
    "rmse = calculate_rmse(y_test, y_pred)\n",
    "print(\"RMSE for model with scaled features:\", rmse)"
   ]
  },
  {
   "cell_type": "code",
   "execution_count": 57,
   "id": "cfd287bf",
   "metadata": {},
   "outputs": [
    {
     "name": "stdout",
     "output_type": "stream",
     "text": [
      "R-squared value: 0.6327012973826398\n"
     ]
    }
   ],
   "source": [
    "r_squared = linreg.score(X_test_scaled, y_test)\n",
    "print(\"R-squared value:\", r_squared)"
   ]
  },
  {
   "cell_type": "markdown",
   "id": "27d20019",
   "metadata": {},
   "source": [
    "R-squared value of approximately 0.63 indicates that around 63.3% of the variance in my targe variable (10Y ROR) can be explained by the independent variables in my model. This suggests a moderately strong fit: my model captures a good portion of the information in the data, but there is still around 36.7% of the variance that is unaccounted for. "
   ]
  },
  {
   "cell_type": "code",
   "execution_count": 58,
   "id": "cf838dc2",
   "metadata": {},
   "outputs": [
    {
     "name": "stdout",
     "output_type": "stream",
     "text": [
      "Mean Squared Error (MSE): 6.001394156667522e-05\n",
      "Root Mean Square Error (RMSE): 0.00774686656440365\n"
     ]
    }
   ],
   "source": [
    "#RANKING MODEL \n",
    "\n",
    "from sklearn.ensemble import GradientBoostingRegressor\n",
    "from sklearn.metrics import mean_squared_error\n",
    "from math import sqrt\n",
    "\n",
    "# Initialize the Gradient Boosting Regressor\n",
    "gbm = GradientBoostingRegressor(n_estimators=100, learning_rate=0.1, max_depth=3, random_state=123)\n",
    "\n",
    "# Fit the model\n",
    "gbm.fit(X_train_scaled, y_train)\n",
    "\n",
    "# Make predictions on the test set\n",
    "y_pred_gbm = gbm.predict(X_test_scaled)\n",
    "\n",
    "# Evaluate the model\n",
    "mse = mean_squared_error(y_test, y_pred_gbm)\n",
    "rmse = sqrt(mse)  # Root Mean Square Error\n",
    "\n",
    "print(f\"Mean Squared Error (MSE): {mse}\")\n",
    "print(f\"Root Mean Square Error (RMSE): {rmse}\")"
   ]
  },
  {
   "cell_type": "markdown",
   "id": "8c6fe1db",
   "metadata": {},
   "source": [
    "GBR is doing better than previous model. Now it's time to predict the ranking of funds, using 10 ROR as the relevance score."
   ]
  },
  {
   "cell_type": "code",
   "execution_count": 59,
   "id": "a0d08a8c",
   "metadata": {},
   "outputs": [
    {
     "name": "stdout",
     "output_type": "stream",
     "text": [
      "Root Mean Square Error (RMSE): 0.0077536091830397854\n",
      "Sorted Fund Names and Predicted 10-Year Returns:\n",
      "                                             Fund Name  \\\n",
      "0    CONSTRUCTION AND BUILDING UNIONS SUPERANNUATIO...   \n",
      "1                         Sunsuper Superannuation Fund   \n",
      "2         Military Superannuation & Benefits Fund No 1   \n",
      "3                                           Care Super   \n",
      "4       Energy Industries Superannuation Scheme-Pool B   \n",
      "..                                                 ...   \n",
      "194                     SuperTrace Superannuation Fund   \n",
      "195                  Macquarie ADF Superannuation Fund   \n",
      "196                            Map Superannuation Plan   \n",
      "197                     SuperTrace Superannuation Fund   \n",
      "198         IOOF Portfolio Service Superannuation Fund   \n",
      "\n",
      "     Predicted 10-Year Return  \n",
      "0                    0.083731  \n",
      "1                    0.083170  \n",
      "2                    0.082688  \n",
      "3                    0.080300  \n",
      "4                    0.080113  \n",
      "..                        ...  \n",
      "194                  0.030342  \n",
      "195                  0.028724  \n",
      "196                  0.028105  \n",
      "197                  0.027915  \n",
      "198                  0.027135  \n",
      "\n",
      "[199 rows x 2 columns]\n"
     ]
    }
   ],
   "source": [
    "from sklearn.ensemble import GradientBoostingRegressor\n",
    "from sklearn.metrics import mean_squared_error\n",
    "import numpy as np\n",
    "import pandas as pd\n",
    "from sklearn.model_selection import train_test_split\n",
    "\n",
    "\n",
    "# Separate the \"Fund name\" column before splitting\n",
    "fund_names = df['Fund name']\n",
    "\n",
    "X = df[feature_cols]\n",
    "y = df['Ten-year\\nrate of return']\n",
    "\n",
    "# Split the data, including the fund_names to keep indices consistent\n",
    "X_train, X_test, y_train, y_test, fund_names_train, fund_names_test = train_test_split(X, y, fund_names, test_size=0.2, random_state=123)\n",
    "\n",
    "# Scale the features\n",
    "X_train_scaled = scaler.fit_transform(X_train)\n",
    "X_test_scaled = scaler.transform(X_test)\n",
    "\n",
    "# Initialize and train GradientBoostingRegressor\n",
    "gbr = GradientBoostingRegressor()\n",
    "gbr.fit(X_train_scaled, y_train)\n",
    "\n",
    "# Make predictions\n",
    "y_pred = gbr.predict(X_test_scaled)\n",
    "\n",
    "# Calculate RMSE\n",
    "rmse = np.sqrt(mean_squared_error(y_test, y_pred))\n",
    "print(f\"Root Mean Square Error (RMSE): {rmse}\")\n",
    "\n",
    "# Sort the predictions (in descending order for highest returns first)\n",
    "sorted_indices = np.argsort(y_pred)[::-1]\n",
    "\n",
    "# Sort fund names according to the sorted prediction indices\n",
    "sorted_fund_names = fund_names_test.iloc[sorted_indices].reset_index(drop=True)\n",
    "\n",
    "# Create a DataFrame to hold sorted fund names and their predicted 10-year returns\n",
    "sorted_df = pd.DataFrame({\n",
    "    'Fund Name': sorted_fund_names,\n",
    "    'Predicted 10-Year Return': y_pred[sorted_indices]\n",
    "})\n",
    "\n",
    "print(\"Sorted Fund Names and Predicted 10-Year Returns:\")\n",
    "print(sorted_df)"
   ]
  },
  {
   "cell_type": "markdown",
   "id": "343b4cfd",
   "metadata": {},
   "source": [
    "Filtering the results only to show industry type funds:"
   ]
  },
  {
   "cell_type": "code",
   "execution_count": 63,
   "id": "ab653507",
   "metadata": {},
   "outputs": [
    {
     "name": "stdout",
     "output_type": "stream",
     "text": [
      "                                             Fund Name  Predicted 10y Return  \\\n",
      "29                             TWU Superannuation Fund              0.042243   \n",
      "33                                          Care Super              0.043807   \n",
      "35   The Victorian Independent Schools Superannuati...              0.044187   \n",
      "37   Australian Catholic Superannuation and Retirem...              0.044507   \n",
      "44                                            Unisuper              0.046320   \n",
      "48                        Austsafe Superannuation Fund              0.046860   \n",
      "51                        Sunsuper Superannuation Fund              0.047752   \n",
      "52                                         Media Super              0.048021   \n",
      "54                                         First Super              0.048109   \n",
      "56   The Victorian Independent Schools Superannuati...              0.048666   \n",
      "57                                 Combined Super Fund              0.048722   \n",
      "59   Building Unions Superannuation Scheme (Queensl...              0.049058   \n",
      "63                                          Care Super              0.049506   \n",
      "64         Meat Industry Employees Superannuation Fund              0.049659   \n",
      "74                                            Unisuper              0.052327   \n",
      "79          The Transport Industry Superannuation Fund              0.053422   \n",
      "90               Retail Employees Superannuation Trust              0.055625   \n",
      "99   Queensland Independent Education & Care Supera...              0.057336   \n",
      "100                                        Prime Super              0.057449   \n",
      "102                            TWU Superannuation Fund              0.057939   \n",
      "105                            TWU Superannuation Fund              0.058216   \n",
      "110                     Statewide Superannuation Trust              0.059458   \n",
      "111                           Mine Superannuation Fund              0.059761   \n",
      "113                                       Spirit Super              0.059976   \n",
      "115        Meat Industry Employees Superannuation Fund              0.060048   \n",
      "119  Australian Catholic Superannuation and Retirem...              0.060445   \n",
      "144                                          Rei Super              0.067117   \n",
      "145                    Club Plus Superannuation Scheme              0.067237   \n",
      "153      Australian Meat Industry Superannuation Trust              0.068229   \n",
      "154  Building Unions Superannuation Scheme (Queensl...              0.068311   \n",
      "156                  MyLifeMyMoney Superannuation Fund              0.069210   \n",
      "163                            TWU Superannuation Fund              0.071575   \n",
      "165      Australian Meat Industry Superannuation Trust              0.072191   \n",
      "167  Australian Catholic Superannuation and Retirem...              0.073157   \n",
      "168                                          NGS Super              0.073287   \n",
      "170                           Mine Superannuation Fund              0.073416   \n",
      "171                       HOSTPLUS Superannuation Fund              0.073474   \n",
      "174                                    Christian Super              0.073746   \n",
      "175                                          Rei Super              0.074808   \n",
      "178                     Statewide Superannuation Trust              0.076123   \n",
      "180                                         Care Super              0.076841   \n",
      "182                                 Intrust Super Fund              0.077030   \n",
      "184                       HOSTPLUS Superannuation Fund              0.077569   \n",
      "185                                          Rei Super              0.077745   \n",
      "186                                        Prime Super              0.078028   \n",
      "187                                              HESTA              0.078259   \n",
      "189  Building Unions Superannuation Scheme (Queensl...              0.079010   \n",
      "192                                       Spirit Super              0.081111   \n",
      "197                       Sunsuper Superannuation Fund              0.085287   \n",
      "198  CONSTRUCTION AND BUILDING UNIONS SUPERANNUATIO...              0.085493   \n",
      "\n",
      "     Fund_type_Industry  \n",
      "29                    1  \n",
      "33                    1  \n",
      "35                    1  \n",
      "37                    1  \n",
      "44                    1  \n",
      "48                    1  \n",
      "51                    1  \n",
      "52                    1  \n",
      "54                    1  \n",
      "56                    1  \n",
      "57                    1  \n",
      "59                    1  \n",
      "63                    1  \n",
      "64                    1  \n",
      "74                    1  \n",
      "79                    1  \n",
      "90                    1  \n",
      "99                    1  \n",
      "100                   1  \n",
      "102                   1  \n",
      "105                   1  \n",
      "110                   1  \n",
      "111                   1  \n",
      "113                   1  \n",
      "115                   1  \n",
      "119                   1  \n",
      "144                   1  \n",
      "145                   1  \n",
      "153                   1  \n",
      "154                   1  \n",
      "156                   1  \n",
      "163                   1  \n",
      "165                   1  \n",
      "167                   1  \n",
      "168                   1  \n",
      "170                   1  \n",
      "171                   1  \n",
      "174                   1  \n",
      "175                   1  \n",
      "178                   1  \n",
      "180                   1  \n",
      "182                   1  \n",
      "184                   1  \n",
      "185                   1  \n",
      "186                   1  \n",
      "187                   1  \n",
      "189                   1  \n",
      "192                   1  \n",
      "197                   1  \n",
      "198                   1  \n"
     ]
    }
   ],
   "source": [
    "# Create a DataFrame to combine all the sorted test data\n",
    "sorted_df = pd.DataFrame({\n",
    "    'Fund Name': sorted_fund_names,\n",
    "    'Predicted 10y Return': sorted_predictions,\n",
    "    'Fund_type_Industry': fund_type_industry_test.iloc[sorted_indices].reset_index(drop=True)\n",
    "})\n",
    "\n",
    "# Filter the DataFrame to show only rows where Fund_type_Industry == 1\n",
    "filtered_df = sorted_df[sorted_df['Fund_type_Industry'] == 1]\n",
    "\n",
    "print(filtered_df)\n"
   ]
  },
  {
   "cell_type": "code",
   "execution_count": 65,
   "id": "b373ef7e",
   "metadata": {},
   "outputs": [
    {
     "data": {
      "text/html": [
       "<div>\n",
       "<style scoped>\n",
       "    .dataframe tbody tr th:only-of-type {\n",
       "        vertical-align: middle;\n",
       "    }\n",
       "\n",
       "    .dataframe tbody tr th {\n",
       "        vertical-align: top;\n",
       "    }\n",
       "\n",
       "    .dataframe thead th {\n",
       "        text-align: right;\n",
       "    }\n",
       "</style>\n",
       "<table border=\"1\" class=\"dataframe\">\n",
       "  <thead>\n",
       "    <tr style=\"text-align: right;\">\n",
       "      <th></th>\n",
       "      <th>Fund Name</th>\n",
       "      <th>Predicted 10y Return</th>\n",
       "    </tr>\n",
       "  </thead>\n",
       "  <tbody>\n",
       "    <tr>\n",
       "      <th>198</th>\n",
       "      <td>CONSTRUCTION AND BUILDING UNIONS SUPERANNUATIO...</td>\n",
       "      <td>0.085493</td>\n",
       "    </tr>\n",
       "    <tr>\n",
       "      <th>197</th>\n",
       "      <td>Sunsuper Superannuation Fund</td>\n",
       "      <td>0.085287</td>\n",
       "    </tr>\n",
       "    <tr>\n",
       "      <th>192</th>\n",
       "      <td>Spirit Super</td>\n",
       "      <td>0.081111</td>\n",
       "    </tr>\n",
       "    <tr>\n",
       "      <th>189</th>\n",
       "      <td>Building Unions Superannuation Scheme (Queensl...</td>\n",
       "      <td>0.079010</td>\n",
       "    </tr>\n",
       "    <tr>\n",
       "      <th>187</th>\n",
       "      <td>HESTA</td>\n",
       "      <td>0.078259</td>\n",
       "    </tr>\n",
       "    <tr>\n",
       "      <th>186</th>\n",
       "      <td>Prime Super</td>\n",
       "      <td>0.078028</td>\n",
       "    </tr>\n",
       "    <tr>\n",
       "      <th>185</th>\n",
       "      <td>Rei Super</td>\n",
       "      <td>0.077745</td>\n",
       "    </tr>\n",
       "    <tr>\n",
       "      <th>184</th>\n",
       "      <td>HOSTPLUS Superannuation Fund</td>\n",
       "      <td>0.077569</td>\n",
       "    </tr>\n",
       "    <tr>\n",
       "      <th>182</th>\n",
       "      <td>Intrust Super Fund</td>\n",
       "      <td>0.077030</td>\n",
       "    </tr>\n",
       "    <tr>\n",
       "      <th>180</th>\n",
       "      <td>Care Super</td>\n",
       "      <td>0.076841</td>\n",
       "    </tr>\n",
       "  </tbody>\n",
       "</table>\n",
       "</div>"
      ],
      "text/plain": [
       "                                             Fund Name  Predicted 10y Return\n",
       "198  CONSTRUCTION AND BUILDING UNIONS SUPERANNUATIO...              0.085493\n",
       "197                       Sunsuper Superannuation Fund              0.085287\n",
       "192                                       Spirit Super              0.081111\n",
       "189  Building Unions Superannuation Scheme (Queensl...              0.079010\n",
       "187                                              HESTA              0.078259\n",
       "186                                        Prime Super              0.078028\n",
       "185                                          Rei Super              0.077745\n",
       "184                       HOSTPLUS Superannuation Fund              0.077569\n",
       "182                                 Intrust Super Fund              0.077030\n",
       "180                                         Care Super              0.076841"
      ]
     },
     "execution_count": 65,
     "metadata": {},
     "output_type": "execute_result"
    }
   ],
   "source": [
    "filtered_df.sort_values('Predicted 10y Return', ascending=False)[['Fund Name', 'Predicted 10y Return']].head(10)\n"
   ]
  },
  {
   "cell_type": "code",
   "execution_count": null,
   "id": "3b829696",
   "metadata": {},
   "outputs": [],
   "source": [
    "\n"
   ]
  },
  {
   "cell_type": "code",
   "execution_count": null,
   "id": "5b134016",
   "metadata": {},
   "outputs": [],
   "source": []
  }
 ],
 "metadata": {
  "kernelspec": {
   "display_name": "Python 3 (ipykernel)",
   "language": "python",
   "name": "python3"
  },
  "language_info": {
   "codemirror_mode": {
    "name": "ipython",
    "version": 3
   },
   "file_extension": ".py",
   "mimetype": "text/x-python",
   "name": "python",
   "nbconvert_exporter": "python",
   "pygments_lexer": "ipython3",
   "version": "3.11.3"
  }
 },
 "nbformat": 4,
 "nbformat_minor": 5
}
