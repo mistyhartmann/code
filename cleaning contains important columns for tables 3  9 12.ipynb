{
 "cells": [
  {
   "cell_type": "markdown",
   "id": "3de0647b",
   "metadata": {},
   "source": [
    "What was done here: Cleaning of tables 3,9,and 12, transforming numerical columns into floats, removing * from cells, and placing with null values."
   ]
  },
  {
   "cell_type": "code",
   "execution_count": 1,
   "id": "f10ccb27",
   "metadata": {},
   "outputs": [],
   "source": [
    "import pandas as pd"
   ]
  },
  {
   "cell_type": "code",
   "execution_count": 11,
   "id": "5eaa9609",
   "metadata": {},
   "outputs": [],
   "source": [
    "df3 = pd.read_csv('Table_3_merged_filtered_float.csv')\n",
    "df9 = pd.read_csv('Table 9.csv')\n",
    "df12 = pd.read_csv('Table 12.csv')\n"
   ]
  },
  {
   "cell_type": "code",
   "execution_count": 12,
   "id": "3e8129aa",
   "metadata": {},
   "outputs": [],
   "source": [
    "df3_important_columns  = [\"Period\", \"Fund name\", \"Fund type\", \"ABN\",\n",
    "    \"Net assets at beginning of period\", \"Net assets at the end of period\",\n",
    "    \"Employer contributions \",\n",
    "    \"Member contributions\", \"Net rollovers\", \"Total benefit payments \", \"Net earnings \",\n",
    "    \"Total investment income\",\n",
    "    \"Total gains/losses\",\n",
    "    \"Operating expense ratio\",\n",
    "    \"Net earnings after tax\",\n",
    "    \"Total liabilities at the end of period\",\n",
    "    \"One-year\\nrate of return\"\n",
    "]\n",
    "\n",
    "df9_important_columns  =  [\"Period\", \"Fund name\", \"Fund type\", \"ABN\",\n",
    "    'Proportion of investments in  fixed income',\n",
    "       'Proportion of investments in equity',\n",
    "       'Proportion of investments in property',\n",
    "       'Proportion of investments in infrastructure',\n",
    "       'Proportion of investments in commodities',\n",
    "       'Proportion of investments in other'\n",
    "]\n",
    "df12_important_columns  = [\"Period\", \"Fund name\", \"Fund type\", \"ABN\", 'Total number of member accounts at the end of period',\n",
    "       'Number of members accounts : female',\n",
    "       'Number of members accounts : male']"
   ]
  },
  {
   "cell_type": "code",
   "execution_count": 14,
   "id": "91bd76c9",
   "metadata": {},
   "outputs": [],
   "source": [
    "#create a key identification for every column \n",
    "import pandas as pd\n",
    "\n",
    "# Sample DataFrames: df3, df9, df12\n",
    "\n",
    "# Step 1: Keep only the important columns\n",
    "df3 = df3[df3_important_columns]\n",
    "df9 = df9[df9_important_columns]\n",
    "df12 = df12[df12_important_columns]"
   ]
  },
  {
   "cell_type": "code",
   "execution_count": 21,
   "id": "fd1505a9",
   "metadata": {},
   "outputs": [
    {
     "data": {
      "text/html": [
       "<div>\n",
       "<style scoped>\n",
       "    .dataframe tbody tr th:only-of-type {\n",
       "        vertical-align: middle;\n",
       "    }\n",
       "\n",
       "    .dataframe tbody tr th {\n",
       "        vertical-align: top;\n",
       "    }\n",
       "\n",
       "    .dataframe thead th {\n",
       "        text-align: right;\n",
       "    }\n",
       "</style>\n",
       "<table border=\"1\" class=\"dataframe\">\n",
       "  <thead>\n",
       "    <tr style=\"text-align: right;\">\n",
       "      <th></th>\n",
       "      <th>Period</th>\n",
       "      <th>Fund name</th>\n",
       "      <th>Fund type</th>\n",
       "      <th>ABN</th>\n",
       "      <th>Proportion of investments in  fixed income</th>\n",
       "      <th>Proportion of investments in equity</th>\n",
       "      <th>Proportion of investments in property</th>\n",
       "      <th>Proportion of investments in infrastructure</th>\n",
       "      <th>Proportion of investments in commodities</th>\n",
       "      <th>Proportion of investments in other</th>\n",
       "    </tr>\n",
       "  </thead>\n",
       "  <tbody>\n",
       "    <tr>\n",
       "      <th>0</th>\n",
       "      <td>2022-06-30</td>\n",
       "      <td>Alcoa of Australia Retirement Plan</td>\n",
       "      <td>Corporate</td>\n",
       "      <td>8.092880e+10</td>\n",
       "      <td>0.27</td>\n",
       "      <td>0.43</td>\n",
       "      <td>0.08</td>\n",
       "      <td>0.06</td>\n",
       "      <td>NaN</td>\n",
       "      <td>0.01</td>\n",
       "    </tr>\n",
       "    <tr>\n",
       "      <th>1</th>\n",
       "      <td>2022-06-30</td>\n",
       "      <td>AMG Super</td>\n",
       "      <td>Retail</td>\n",
       "      <td>3.009932e+10</td>\n",
       "      <td>0.14</td>\n",
       "      <td>0.63</td>\n",
       "      <td>0.05</td>\n",
       "      <td>0.01</td>\n",
       "      <td>0.0</td>\n",
       "      <td>0.00</td>\n",
       "    </tr>\n",
       "    <tr>\n",
       "      <th>2</th>\n",
       "      <td>2022-06-30</td>\n",
       "      <td>AMP Super Fund</td>\n",
       "      <td>Retail</td>\n",
       "      <td>7.842196e+10</td>\n",
       "      <td>0.19</td>\n",
       "      <td>0.58</td>\n",
       "      <td>0.08</td>\n",
       "      <td>0.01</td>\n",
       "      <td>NaN</td>\n",
       "      <td>0.06</td>\n",
       "    </tr>\n",
       "    <tr>\n",
       "      <th>3</th>\n",
       "      <td>2022-06-30</td>\n",
       "      <td>ANZ Australian Staff Superannuation Scheme</td>\n",
       "      <td>Corporate</td>\n",
       "      <td>8.381013e+10</td>\n",
       "      <td>0.14</td>\n",
       "      <td>0.61</td>\n",
       "      <td>0.09</td>\n",
       "      <td>0.03</td>\n",
       "      <td>0.0</td>\n",
       "      <td>0.03</td>\n",
       "    </tr>\n",
       "    <tr>\n",
       "      <th>4</th>\n",
       "      <td>2022-06-30</td>\n",
       "      <td>Aracon Superannuation Fund</td>\n",
       "      <td>Retail</td>\n",
       "      <td>4.058655e+10</td>\n",
       "      <td>0.27</td>\n",
       "      <td>0.42</td>\n",
       "      <td>0.02</td>\n",
       "      <td>0.02</td>\n",
       "      <td>NaN</td>\n",
       "      <td>0.17</td>\n",
       "    </tr>\n",
       "  </tbody>\n",
       "</table>\n",
       "</div>"
      ],
      "text/plain": [
       "       Period                                   Fund name  Fund type  \\\n",
       "0  2022-06-30          Alcoa of Australia Retirement Plan  Corporate   \n",
       "1  2022-06-30                                   AMG Super     Retail   \n",
       "2  2022-06-30                              AMP Super Fund     Retail   \n",
       "3  2022-06-30  ANZ Australian Staff Superannuation Scheme  Corporate   \n",
       "4  2022-06-30                  Aracon Superannuation Fund     Retail   \n",
       "\n",
       "            ABN  Proportion of investments in  fixed income  \\\n",
       "0  8.092880e+10                                        0.27   \n",
       "1  3.009932e+10                                        0.14   \n",
       "2  7.842196e+10                                        0.19   \n",
       "3  8.381013e+10                                        0.14   \n",
       "4  4.058655e+10                                        0.27   \n",
       "\n",
       "   Proportion of investments in equity  Proportion of investments in property  \\\n",
       "0                                 0.43                                   0.08   \n",
       "1                                 0.63                                   0.05   \n",
       "2                                 0.58                                   0.08   \n",
       "3                                 0.61                                   0.09   \n",
       "4                                 0.42                                   0.02   \n",
       "\n",
       "   Proportion of investments in infrastructure  \\\n",
       "0                                         0.06   \n",
       "1                                         0.01   \n",
       "2                                         0.01   \n",
       "3                                         0.03   \n",
       "4                                         0.02   \n",
       "\n",
       "   Proportion of investments in commodities  \\\n",
       "0                                       NaN   \n",
       "1                                       0.0   \n",
       "2                                       NaN   \n",
       "3                                       0.0   \n",
       "4                                       NaN   \n",
       "\n",
       "   Proportion of investments in other  \n",
       "0                                0.01  \n",
       "1                                0.00  \n",
       "2                                0.06  \n",
       "3                                0.03  \n",
       "4                                0.17  "
      ]
     },
     "execution_count": 21,
     "metadata": {},
     "output_type": "execute_result"
    }
   ],
   "source": [
    "df9.head()"
   ]
  },
  {
   "cell_type": "code",
   "execution_count": 20,
   "id": "1ffe2bdb",
   "metadata": {},
   "outputs": [],
   "source": [
    "# Get all column names after the 6th column\n",
    "all_columns = df3.columns.tolist()\n",
    "columns_after_10 = all_columns[5:]\n",
    "\n",
    "# Filter out only object type columns from this list\n",
    "object_cols_after_10 = df3[columns_after_10].select_dtypes(include=['object']).columns.tolist()\n",
    "\n",
    "# Replace '*' with NaN in the specified columns\n",
    "for col in object_cols_after_10:\n",
    "    df3[col] = df3[col].replace('*', np.nan)\n",
    "\n",
    "# Convert columns to float\n",
    "df3[object_cols_after_10] = df3[object_cols_after_10].astype(float)\n"
   ]
  },
  {
   "cell_type": "code",
   "execution_count": 22,
   "id": "f77a4ea2",
   "metadata": {},
   "outputs": [],
   "source": [
    "# Get all column names after the 6th column\n",
    "all_columns = df9.columns.tolist()\n",
    "columns_after_10 = all_columns[5:]\n",
    "\n",
    "# Filter out only object type columns from this list\n",
    "object_cols_after_10 = df9[columns_after_10].select_dtypes(include=['object']).columns.tolist()\n",
    "\n",
    "# Replace '*' with NaN in the specified columns\n",
    "for col in object_cols_after_10:\n",
    "    df9[col] = df9[col].replace('*', np.nan)\n",
    "\n",
    "# Convert columns to float\n",
    "df9[object_cols_after_10] = df9[object_cols_after_10].astype(float)\n"
   ]
  },
  {
   "cell_type": "code",
   "execution_count": 23,
   "id": "f0407cfe",
   "metadata": {},
   "outputs": [],
   "source": [
    "# Get all column names after the 6th column\n",
    "all_columns = df12.columns.tolist()\n",
    "columns_after_10 = all_columns[5:]\n",
    "\n",
    "# Filter out only object type columns from this list\n",
    "object_cols_after_10 = df12[columns_after_10].select_dtypes(include=['object']).columns.tolist()\n",
    "\n",
    "# Replace '*' with NaN in the specified columns\n",
    "for col in object_cols_after_10:\n",
    "    df12[col] = df12[col].replace('*', np.nan)\n",
    "\n",
    "# Convert columns to float\n",
    "df12[object_cols_after_10] = df12[object_cols_after_10].astype(float)"
   ]
  },
  {
   "cell_type": "code",
   "execution_count": 25,
   "id": "ccd2ac6a",
   "metadata": {},
   "outputs": [
    {
     "name": "stdout",
     "output_type": "stream",
     "text": [
      "Period                                          object\n",
      "Fund name                                       object\n",
      "Fund type                                       object\n",
      "ABN                                            float64\n",
      "Proportion of investments in  fixed income     float64\n",
      "Proportion of investments in equity            float64\n",
      "Proportion of investments in property          float64\n",
      "Proportion of investments in infrastructure    float64\n",
      "Proportion of investments in commodities       float64\n",
      "Proportion of investments in other             float64\n",
      "dtype: object\n"
     ]
    }
   ],
   "source": [
    "print(df9.dtypes)"
   ]
  },
  {
   "cell_type": "code",
   "execution_count": 26,
   "id": "00ab04b6",
   "metadata": {},
   "outputs": [],
   "source": [
    "\n",
    "\n",
    "# Convert ABN to string in each DataFrame\n",
    "df3['ABN'] = df3['ABN'].astype(str)\n",
    "df9['ABN'] = df9['ABN'].astype(str)\n",
    "df12['ABN'] = df12['ABN'].astype(str)\n",
    "\n",
    "# Step 2: Create a key column\n",
    "df3['key'] = df3['Period'] + df3['ABN'] + df3['Fund name']\n",
    "df9['key'] = df9['Period'] + df9['ABN'] + df9['Fund name']\n",
    "df12['key'] = df12['Period'] + df12['ABN'] + df12['Fund name']\n",
    "\n",
    "# Step 3: Perform inner joins\n",
    "df_merged = df3.merge(df9, on='key', how='inner')\n",
    "df_merged = df_merged.merge(df12, on='key', how='inner')"
   ]
  },
  {
   "cell_type": "code",
   "execution_count": 29,
   "id": "b160944b",
   "metadata": {},
   "outputs": [],
   "source": [
    "df = pd.read_csv('Table2_3_6_9_11_12_clean_filtered.csv')"
   ]
  },
  {
   "cell_type": "code",
   "execution_count": 32,
   "id": "b76c0011",
   "metadata": {},
   "outputs": [
    {
     "data": {
      "text/plain": [
       "(3710, 85)"
      ]
     },
     "execution_count": 32,
     "metadata": {},
     "output_type": "execute_result"
    }
   ],
   "source": [
    "df.shape"
   ]
  },
  {
   "cell_type": "code",
   "execution_count": 33,
   "id": "4fbdef0b",
   "metadata": {},
   "outputs": [],
   "source": [
    "important_columns  = [\"Period\", \"Fund name\", \"Fund type\", \"ABN\",\n",
    "    \"Net assets at beginning of period\", \"Net assets at the end of period\",\n",
    "    \"Employer contributions \",\n",
    "    \"Member contributions\", \"Net rollovers\", \"Total benefit payments \", \"Net earnings \",\n",
    "    \"Total investment income\",\n",
    "    \"Total gains/losses\",\n",
    "    \"Operating expense ratio\",\n",
    "    \"Net earnings after tax\",\n",
    "    \"Total liabilities at the end of period\",\n",
    "    \"One-year\\nrate of return\", 'Proportion of investments in  fixed income',\n",
    "       'Proportion of investments in equity',\n",
    "       'Proportion of investments in property',\n",
    "       'Proportion of investments in infrastructure',\n",
    "       'Proportion of investments in commodities',\n",
    "       'Proportion of investments in other','Total number of member accounts at the end of period',\n",
    "       'Number of members accounts : female',\n",
    "       'Number of members accounts : male']"
   ]
  },
  {
   "cell_type": "code",
   "execution_count": null,
   "id": "19d9b1c9",
   "metadata": {},
   "outputs": [],
   "source": []
  },
  {
   "cell_type": "code",
   "execution_count": null,
   "id": "5b4ba40b",
   "metadata": {},
   "outputs": [],
   "source": []
  }
 ],
 "metadata": {
  "kernelspec": {
   "display_name": "Python 3 (ipykernel)",
   "language": "python",
   "name": "python3"
  },
  "language_info": {
   "codemirror_mode": {
    "name": "ipython",
    "version": 3
   },
   "file_extension": ".py",
   "mimetype": "text/x-python",
   "name": "python",
   "nbconvert_exporter": "python",
   "pygments_lexer": "ipython3",
   "version": "3.11.3"
  }
 },
 "nbformat": 4,
 "nbformat_minor": 5
}
